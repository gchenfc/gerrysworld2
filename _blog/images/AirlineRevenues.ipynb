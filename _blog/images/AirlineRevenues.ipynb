{
 "cells": [
  {
   "cell_type": "code",
   "execution_count": null,
   "metadata": {},
   "outputs": [],
   "source": [
    "import matplotlib.pyplot as plt"
   ]
  },
  {
   "cell_type": "markdown",
   "metadata": {},
   "source": [
    "# Frontier"
   ]
  },
  {
   "cell_type": "code",
   "execution_count": null,
   "metadata": {},
   "outputs": [],
   "source": [
    "import matplotlib.colors as mcolors\n",
    "mcolors.CSS4_COLORS"
   ]
  },
  {
   "cell_type": "code",
   "execution_count": null,
   "metadata": {},
   "outputs": [],
   "source": [
    "# Data for 6-months 2023\n",
    "labels = [\"Fare\", \"Service fees\", \"Baggage\", \"Seat selection\", \"Other passenger revenues\", \"Other revenues, e.g. cargo\"]\n",
    "values = [664, 462, 453, 146, 50, 40]\n",
    "adjusted_labels = [f\"{label}\\n(${value}M)\" for label, value in zip(labels, values)]\n",
    "custom_colors = [\"#A1DAE8\", \"#91cAd8\", \"#00aFFF\", \"#00BFFF\", \"#10cFFF\", \"peachpuff\"]\n",
    "\n",
    "fig, ax = plt.subplots(figsize=(12, 9))\n",
    "wedges, texts, autotexts = ax.pie(values, labels=adjusted_labels, autopct='%1.1f%%', startangle=180, counterclock=False, \n",
    "                                    colors=custom_colors, pctdistance=0.85, textprops={'fontsize': 14})\n",
    "\n",
    "# Adjust font size and weight\n",
    "for text, autotext in zip(texts, autotexts):\n",
    "    text.set(fontsize=14)\n",
    "    autotext.set(fontsize=14, weight=\"bold\")\n",
    "\n",
    "# Add source text to the far bottom-right corner\n",
    "plt.figtext(0.97, 0.01, \"[source: Frontier Airlines 2023Q2 10-Q Filing]\", ha=\"right\", fontsize=10)\n",
    "\n",
    "ax.axis('equal')  # Equal aspect ratio ensures that pie is drawn as a circle.\n",
    "plt.title(\"Frontier Airlines Revenues\\n(for 6-months Ended June 30, 2023)\", fontsize=18)\n",
    "plt.tight_layout()  # Adjust layout to prevent overlaps\n",
    "# plt.show()\n",
    "\n",
    "plt.savefig(\"_blog/images/FrontierAirlinesRevenues.svg\", format=\"svg\")"
   ]
  },
  {
   "cell_type": "markdown",
   "metadata": {},
   "source": [
    "# Delta"
   ]
  },
  {
   "cell_type": "code",
   "execution_count": null,
   "metadata": {},
   "outputs": [],
   "source": [
    "import matplotlib.pyplot as plt\n",
    "\n",
    "# Data and labels\n",
    "labels_reordered = [\"Refinery\", \"Loyalty program\", \"Ancillary businesses\", \"Miscellaneous\", \"Fare\", \"Loyalty travel awards\", \"Travel-related services\"]\n",
    "values_reordered = [2817, 2291, 657, 790, 32801, 2547, 1387]\n",
    "adjusted_labels_reordered = [f\"{label} ${value}M\" if label != \"Fare\" else f\"{label}\\n${value}M\" for label, value in zip(labels_reordered, values_reordered)]\n",
    "colors_reordered = ['lightsalmon', 'darkorange', 'coral', 'peachpuff', 'lightblue', 'royalblue', 'deepskyblue']\n",
    "explode_values_final = [0, 0, 0, 0, 0, 0, 0]\n",
    "\n",
    "# Generating the pie chart\n",
    "fig, ax = plt.subplots(figsize=(12, 9))\n",
    "wedges, texts, autotexts = ax.pie(values_reordered, labels=adjusted_labels_reordered, autopct='%1.1f%%', startangle=180, counterclock=False, \n",
    "                                colors=colors_reordered, pctdistance=0.85, textprops={'fontsize': 14}, explode=explode_values_final)\n",
    "\n",
    "# Adjust font size and weight\n",
    "for text, autotext in zip(texts, autotexts):\n",
    "    text.set(fontsize=14)\n",
    "    autotext.set(fontsize=16, weight=\"bold\")\n",
    "\n",
    "# Positioning text boxes\n",
    "y_position = -1.5\n",
    "ax.text(-1.9, y_position, \"Passenger Revenues are shades of blue\\nNon-passenger revenues are shades of orange\", fontsize=12, ha=\"left\", va=\"bottom\")\n",
    "ax.text(1.5, y_position, \"[source: Delta Airlines 2023Q3 10-Q Filing]\", fontsize=12, ha=\"right\", va=\"bottom\")\n",
    "\n",
    "ax.axis('equal')  # Equal aspect ratio ensures that pie is drawn as a circle.\n",
    "plt.title(\"Delta Airlines Revenues\\n(for 9-months Ended September 30, 2023)\", fontsize=20)\n",
    "plt.tight_layout()  # Adjust layout to prevent overlaps\n",
    "# plt.show()\n",
    "plt.savefig(\"_blog/images/DeltaAirlinesRevenues.svg\", format=\"svg\")"
   ]
  },
  {
   "cell_type": "code",
   "execution_count": null,
   "metadata": {},
   "outputs": [],
   "source": []
  }
 ],
 "metadata": {
  "kernelspec": {
   "display_name": "base",
   "language": "python",
   "name": "python3"
  },
  "language_info": {
   "codemirror_mode": {
    "name": "ipython",
    "version": 3
   },
   "file_extension": ".py",
   "mimetype": "text/x-python",
   "name": "python",
   "nbconvert_exporter": "python",
   "pygments_lexer": "ipython3",
   "version": "3.9.15"
  },
  "orig_nbformat": 4
 },
 "nbformat": 4,
 "nbformat_minor": 2
}
